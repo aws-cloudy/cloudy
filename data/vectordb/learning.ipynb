{
  "nbformat": 4,
  "nbformat_minor": 0,
  "metadata": {
    "colab": {
      "private_outputs": true,
      "provenance": []
    },
    "kernelspec": {
      "name": "python3",
      "display_name": "Python 3"
    },
    "language_info": {
      "name": "python"
    }
  },
  "cells": [
    {
      "cell_type": "code",
      "source": [
        "!pip install openai pinecone LangChain"
      ],
      "metadata": {
        "id": "nJXwmtVziIrb",
        "collapsed": true
      },
      "execution_count": null,
      "outputs": []
    },
    {
      "cell_type": "code",
      "source": [],
      "metadata": {
        "id": "bS_cKtl-mV_R"
      },
      "execution_count": null,
      "outputs": []
    },
    {
      "cell_type": "code",
      "source": [
        "!pip install --upgrade openai"
      ],
      "metadata": {
        "id": "j51gyR4_iKcZ",
        "collapsed": true
      },
      "execution_count": null,
      "outputs": []
    },
    {
      "cell_type": "code",
      "source": [],
      "metadata": {
        "id": "SeeLfXQ0mW7l"
      },
      "execution_count": null,
      "outputs": []
    },
    {
      "cell_type": "code",
      "source": [
        "import pandas as pd\n",
        "import openai\n",
        "import pinecone\n"
      ],
      "metadata": {
        "id": "qzxIYM5oidFY"
      },
      "execution_count": null,
      "outputs": []
    },
    {
      "cell_type": "code",
      "source": [],
      "metadata": {
        "id": "jQbKIyLxn_mv"
      },
      "execution_count": null,
      "outputs": []
    },
    {
      "cell_type": "code",
      "source": [
        "# OpenAI API 키 설정\n",
        "from pinecone import Pinecone\n",
        "from openai import OpenAI\n",
        "\n",
        "\n",
        "openai.api_key = 'sk-proj-p2ti3uV1OWTRF3d5IljCT3BlbkFJGUHpeTHBINuJDMP5x5l3'\n",
        "\n",
        "\n",
        "\n",
        "pc = Pinecone(api_key=\"6a58b4b8-48f2-49aa-952f-5e4658e23f69\")\n",
        "index = pc.Index(\"prod\")"
      ],
      "metadata": {
        "id": "Mvtr6l7GiV5f"
      },
      "execution_count": null,
      "outputs": []
    },
    {
      "cell_type": "code",
      "source": [],
      "metadata": {
        "id": "RcMjpHg6oBKv"
      },
      "execution_count": null,
      "outputs": []
    },
    {
      "cell_type": "code",
      "source": [
        "def embedding(data):\n",
        "    response = openai.embeddings.create(\n",
        "        input= data,\n",
        "        model=\"text-embedding-3-small\"\n",
        "    )\n",
        "    return response.data[0].embedding\n"
      ],
      "metadata": {
        "id": "9K9AxayRiXkN"
      },
      "execution_count": null,
      "outputs": []
    },
    {
      "cell_type": "code",
      "source": [
        "print(embedding(\"textract, ocr\"))"
      ],
      "metadata": {
        "id": "mGfkG-tN7sP2"
      },
      "execution_count": null,
      "outputs": []
    },
    {
      "cell_type": "code",
      "source": [],
      "metadata": {
        "id": "eGJI0nnyoDIH"
      },
      "execution_count": null,
      "outputs": []
    },
    {
      "cell_type": "code",
      "execution_count": null,
      "metadata": {
        "id": "Ew8CrPESiBjK"
      },
      "outputs": [],
      "source": [
        "def get_summary(desc):\n",
        "    prompt = f\"\"\"\n",
        "    강의의 내용은 다음과 같습니다.\n",
        "    \"{desc}\"\n",
        "    강의 내용이 위와 같을 때 강의 한줄 소개 글을 작성해주세요\n",
        "    강의에서 배우는 aws 서비스가 있을 경우 서비스 명과 설명도 간단하게 붙여주세요.\n",
        "    \"\"\"\n",
        "    response =  openai.chat.completions.create(\n",
        "        model=\"gpt-3.5-turbo\",\n",
        "        messages=[\n",
        "            {\"role\": \"system\", \"content\": \"AWS 및 IT 기술에 특화된 어시스턴트입니다.\"},\n",
        "            {\"role\": \"user\", \"content\": prompt}\n",
        "        ],\n",
        "        max_tokens=300,\n",
        "        temperature=0\n",
        "    )\n",
        "    return response.choices[0].message.content\n"
      ]
    },
    {
      "cell_type": "code",
      "source": [],
      "metadata": {
        "id": "iDiArFD2oDfS"
      },
      "execution_count": null,
      "outputs": []
    },
    {
      "cell_type": "code",
      "source": [
        "def get_aws_and_it_keywords_from_desc(desc):\n",
        "    prompt = f\"\"\"\n",
        "    The user asked the following question:\n",
        "    \"{desc}\"\n",
        "\n",
        "    Provide four AWS service names and four IT technology keywords related to the content.\n",
        "    Each keyword should be separated by a comma and a space, and the whole output should be in one line.\n",
        "    Do not include any labels such as \"AWS services\" or \"IT keywords and .\n",
        "    Exclude \"IAM\", \"AWS\", \"Amazon\" from the AWS services.\"\n",
        "    Each Keyword must be an english\n",
        "    \"\"\"\n",
        "    response =  openai.chat.completions.create(\n",
        "        model=\"gpt-3.5-turbo\",\n",
        "        messages=[\n",
        "            {\"role\": \"system\", \"content\": \"You are an assistant specializing in AWS and IT technology.\"},\n",
        "            {\"role\": \"user\", \"content\": prompt}\n",
        "        ],\n",
        "        max_tokens=50,\n",
        "        temperature=0\n",
        "    )\n",
        "    return response.choices[0].message.content\n",
        "\n"
      ],
      "metadata": {
        "id": "oCAjGu5ds2rK"
      },
      "execution_count": null,
      "outputs": []
    },
    {
      "cell_type": "code",
      "source": [],
      "metadata": {
        "id": "JyjWoElloEGz"
      },
      "execution_count": null,
      "outputs": []
    },
    {
      "cell_type": "code",
      "source": [
        "df = pd.read_csv('./learning_addcol.csv')\n",
        "\n",
        "\n",
        "selected_cols = df[['id','title','difficulty','duration', 'desc', 'summary','thumbnail','link','type', 'keywords', ]]\n",
        "\n",
        "\n",
        "\n",
        "## 그냥 그대로 summary만 임베딩하여 넣었을 경우\n",
        "vectors = []\n",
        "for i, row in selected_cols.iterrows():\n",
        "\n",
        "    vector = {}\n",
        "    metadata = {}\n",
        "\n",
        "    vector[\"metadata\"] = metadata\n",
        "    vector[\"values\"] = \"\"\n",
        "    print(i)\n",
        "    try:\n",
        "        sum = get_summary(row[\"desc\"])\n",
        "        keywords = get_aws_and_it_keywords_from_desc(row[\"desc\"])\n",
        "        selected_cols.at[i, 'summary'] = sum\n",
        "        keywords = keywords.replace(\"Amazon\",\"\").replace(\"AWS\", \"\").replace(\"  \", \" \")\n",
        "        selected_cols.at[i, 'keywords'] = keywords\n",
        "    except Exception as e:\n",
        "        selected_cols.to_csv('./updated_learning.csv', index=False)\n",
        "\n",
        "\n",
        "    #vectors.append(vector)\n",
        "\n",
        "selected_cols.to_csv('./updated_learning.csv', index=False)\n",
        "\n",
        "\n",
        "\n",
        "\n",
        "\n",
        "\n"
      ],
      "metadata": {
        "id": "K3lTDLITx3zd"
      },
      "execution_count": null,
      "outputs": []
    },
    {
      "cell_type": "code",
      "source": [
        "print(get_aws_and_it_keywords_from_desc(\"시계열 데이터를 관리해야하는데 관련 강의를 추천해줘\"))"
      ],
      "metadata": {
        "id": "LI1DbcpQtmo-"
      },
      "execution_count": null,
      "outputs": []
    },
    {
      "cell_type": "code",
      "source": [
        "selected_cols.to_csv('./updated_learning.csv', index=False, encoding='utf-8')"
      ],
      "metadata": {
        "id": "Z_3Cf7iarPPg"
      },
      "execution_count": null,
      "outputs": []
    },
    {
      "cell_type": "code",
      "source": [
        "## summary 칼럼 그대로 임베딩\n",
        "df = pd.read_csv('./learning_test3_utf.csv')\n",
        "\n",
        "\n",
        "selected_cols = df[['id','title','difficulty','duration', 'desc', 'summary','thumbnail','link','type', 'keywords', ]]\n",
        "\n",
        "\n",
        "\n",
        "## 그냥 그대로 summary만 임베딩하여 넣었을 경우\n",
        "vectors = []\n",
        "for i, row in selected_cols.iterrows():\n",
        "\n",
        "    vector = {}\n",
        "    metadata = {}\n",
        "\n",
        "    metadata[\"id\"] = str(row[\"id\"])\n",
        "    vector[\"values\"] = embedding(row['keywords'].replace(\"AWS\", \"\").replace(\"Amazon\",\"\"))\n",
        "    metadata[\"keywords\"] = [s.strip() for s in row[\"keywords\"].split(\",\")]\n",
        "    vector[\"metadata\"] = metadata\n",
        "    vector[\"id\"] = str(row[\"id\"])+\"_learning\"\n",
        "\n",
        "\n",
        "\n",
        "\n",
        "\n",
        "\n",
        "    vectors.append(vector)\n",
        "\n",
        "\n",
        "\n",
        "\n",
        "print(vectors[0])\n",
        "\n",
        "\n",
        "\n",
        "\n",
        "\n"
      ],
      "metadata": {
        "id": "vuMNv9vmz_bU"
      },
      "execution_count": null,
      "outputs": []
    },
    {
      "cell_type": "code",
      "source": [
        "## sumarry와 키워드 칼럼 합쳐서 임베딩"
      ],
      "metadata": {
        "id": "V4E0qleJGQfN"
      },
      "execution_count": null,
      "outputs": []
    },
    {
      "cell_type": "code",
      "source": [
        "print(vectors[0])"
      ],
      "metadata": {
        "id": "gVGqPXgmMqtD"
      },
      "execution_count": null,
      "outputs": []
    },
    {
      "cell_type": "code",
      "source": [
        "index.upsert(\n",
        "    vectors=vectors,\n",
        "    namespace=\"learning\"\n",
        ")"
      ],
      "metadata": {
        "id": "4bV5HwIMQktu"
      },
      "execution_count": null,
      "outputs": []
    },
    {
      "cell_type": "code",
      "source": [
        "index.query(\n",
        "    vector = embedding(\"ec2 초급강의\"),\n",
        "    top_k=3\n",
        "    namespace=\"learning\"\n",
        "\n",
        ")"
      ],
      "metadata": {
        "id": "pZy0e8nhSZrl"
      },
      "execution_count": null,
      "outputs": []
    },
    {
      "cell_type": "code",
      "source": [
        "print(embedding(\"ECS, EKS, Fargate, App Runner, Kubernetes, Docker, Containerization, Orchestration, 컨테이너 오케스트레이션 중급 과정\"))"
      ],
      "metadata": {
        "id": "nZA5dEY7Slcg"
      },
      "execution_count": null,
      "outputs": []
    },
    {
      "cell_type": "code",
      "source": [
        "print(get_aws_and_it_keywords_from_desc(\"컨테이너 오케스트레이션 초급 과정\"))"
      ],
      "metadata": {
        "id": "ScvwLlcDTKEA"
      },
      "execution_count": null,
      "outputs": []
    }
  ]
}
{
  "nbformat": 4,
  "nbformat_minor": 0,
  "metadata": {
    "colab": {
      "private_outputs": true,
      "provenance": []
    },
    "kernelspec": {
      "name": "python3",
      "display_name": "Python 3"
    },
    "language_info": {
      "name": "python"
    }
  },
  "cells": [
    {
      "cell_type": "code",
      "execution_count": null,
      "metadata": {
        "id": "thyzSiwglnsZ"
      },
      "outputs": [],
      "source": []
    },
    {
      "cell_type": "code",
      "source": [
        "import pandas as pd\n",
        "import openai\n",
        "import pinecone\n"
      ],
      "metadata": {
        "id": "QhwZsOIbnLtj"
      },
      "execution_count": null,
      "outputs": []
    },
    {
      "cell_type": "code",
      "source": [],
      "metadata": {
        "id": "DM6fjZ-WuReW"
      },
      "execution_count": null,
      "outputs": []
    },
    {
      "cell_type": "code",
      "source": [
        "!pip install openai pinecone LangChain"
      ],
      "metadata": {
        "id": "jMuc88inn_Ah",
        "collapsed": true
      },
      "execution_count": null,
      "outputs": []
    },
    {
      "cell_type": "code",
      "source": [
        "!pip install --upgrade openai"
      ],
      "metadata": {
        "id": "zzFmMrgX1Z9f",
        "collapsed": true
      },
      "execution_count": null,
      "outputs": []
    },
    {
      "cell_type": "code",
      "source": [
        "# OpenAI API 키 설정\n",
        "from pinecone import Pinecone\n",
        "from openai import OpenAI\n",
        "\n",
        "\n",
        "openai.api_key = 'sk-proj-p2ti3uV1OWTRF3d5IljCT3BlbkFJGUHpeTHBINuJDMP5x5l3'\n",
        "\n",
        "\n",
        "\n",
        "pc = Pinecone(api_key=\"6a58b4b8-48f2-49aa-952f-5e4658e23f69\")\n",
        "index = pc.Index(\"prod\")"
      ],
      "metadata": {
        "id": "Ge5j2ryCzNLP"
      },
      "execution_count": null,
      "outputs": []
    },
    {
      "cell_type": "code",
      "source": [
        "def embedding(data):\n",
        "    response = openai.embeddings.create(\n",
        "        input= data,\n",
        "        model=\"text-embedding-3-small\"\n",
        "    )\n",
        "    return response.data[0].embedding\n"
      ],
      "metadata": {
        "id": "Cvz97WhCzyxh"
      },
      "execution_count": null,
      "outputs": []
    },
    {
      "cell_type": "code",
      "source": [
        "#생성한 목 데이터를 업로드합니다.\n",
        "index.upsert(\n",
        "    vectors=vectors,\n",
        "    namsespace=\"loadmap_embed_with_summary\")"
      ],
      "metadata": {
        "id": "zFT83-bI7_Yy"
      },
      "execution_count": null,
      "outputs": []
    },
    {
      "cell_type": "code",
      "source": [],
      "metadata": {
        "id": "74YBe6Aw1dgT"
      },
      "execution_count": null,
      "outputs": []
    },
    {
      "cell_type": "code",
      "source": [
        "query = \"AWS 서비스명: AWS IoT Core, Amazon Kinesis, Amazon QuickSight, AWS LambdaIT 기술 키워드: 데이터 수집, 대시보드 개발, 데이터 시각화, 이벤트 기반 아키텍처\"\n",
        "\n",
        "\n",
        "print(embedding(query))\n"
      ],
      "metadata": {
        "id": "TBxPmtVR7EXv"
      },
      "execution_count": null,
      "outputs": []
    },
    {
      "cell_type": "code",
      "source": [
        "def get_aws_and_it_keywords(user_question):\n",
        "    prompt = f\"\"\"\n",
        "    The user asked the following question:\n",
        "    \"{user_question}\"\n",
        "\n",
        "    Provide four AWS service names and four IT technology keywords related to the question.\n",
        "    Each keyword should be separated by a comma and a space, and the whole output should be in one line.\n",
        "    Do not include any labels such as \"AWS services\" or \"IT keywords.\n",
        "    Exclude \"IAM\" from the AWS services.\"\n",
        "    \"\"\"\n",
        "    response =  openai.chat.completions.create(\n",
        "        model=\"gpt-3.5-turbo\",\n",
        "        messages=[\n",
        "            {\"role\": \"system\", \"content\": \"You are an assistant specializing in AWS and IT technology.\"},\n",
        "            {\"role\": \"user\", \"content\": prompt}\n",
        "        ],\n",
        "        max_tokens=50,\n",
        "        temperature=0\n",
        "    )\n",
        "    return response.choices[0].message.content\n",
        "\n"
      ],
      "metadata": {
        "id": "7n6mprs5BH0-"
      },
      "execution_count": null,
      "outputs": []
    },
    {
      "cell_type": "code",
      "source": [
        "def get_aws_and_it_keywords_from_desc(desc):\n",
        "    prompt = f\"\"\"\n",
        "    The user asked the following question:\n",
        "    \"{desc}\"\n",
        "\n",
        "    Provide four AWS service names and four IT technology keywords related to the content.\n",
        "    Each keyword should be separated by a comma and a space, and the whole output should be in one line.\n",
        "    Do not include any labels such as \"AWS services\" or \"IT keywords.\n",
        "    Exclude \"IAM\" from the AWS services.\"\n",
        "    \"\"\"\n",
        "    response =  openai.chat.completions.create(\n",
        "        model=\"gpt-3.5-turbo\",\n",
        "        messages=[\n",
        "            {\"role\": \"system\", \"content\": \"You are an assistant specializing in AWS and IT technology.\"},\n",
        "            {\"role\": \"user\", \"content\": prompt}\n",
        "        ],\n",
        "        max_tokens=50,\n",
        "        temperature=0\n",
        "    )\n",
        "    return response.choices[0].message.content\n",
        "\n"
      ],
      "metadata": {
        "id": "X-dzJ8rMFO9f"
      },
      "execution_count": null,
      "outputs": []
    },
    {
      "cell_type": "code",
      "source": [
        "df = pd.read_csv('/content/roadmap_38_no_keywords-UTF.csv')\n",
        "\n",
        "\n",
        "selected_cols = df[['id','title','desc','thumbnail', 'service','job', 'summary', 'keywords' ]]\n",
        "\n",
        "\n",
        "\n",
        "## 그냥 그대로 summary만 임베딩하여 넣었을 경우\n",
        "vectors = []\n",
        "for i, row in selected_cols.iterrows():\n",
        "\n",
        "    vector = {}\n",
        "    metadata = {}\n",
        "\n",
        "    vector[\"metadata\"] = metadata\n",
        "    vector[\"values\"] = \"\"\n",
        "    print(i)\n",
        "    try:\n",
        "    # sum = get_summary(row[\"desc\"])\n",
        "        keywords = get_aws_and_it_keywords_from_desc(row[\"desc\"])\n",
        "        # selected_cols.at[i, 'summary'] = sum\n",
        "        keywords = keywords.replace(\"Amazon\",\"\").replace(\"AWS\", \"\").replace(\"  \", \" \")\n",
        "        selected_cols.at[i, 'keywords'] = keywords\n",
        "    except Exception as e:\n",
        "\n",
        "\n",
        "        selected_cols.to_csv('./updated_roadmap.csv', index=False)\n",
        "\n",
        "\n",
        "    #vectors.append(vector)\n",
        "\n",
        "selected_cols.to_csv('./updated_roadmap.csv', index=False)\n",
        "\n",
        "\n",
        "\n",
        "\n",
        "\n",
        "\n"
      ],
      "metadata": {
        "id": "s-eaJD4TA4SX"
      },
      "execution_count": null,
      "outputs": []
    },
    {
      "cell_type": "code",
      "source": [],
      "metadata": {
        "id": "aQukak50BMm7"
      },
      "execution_count": null,
      "outputs": []
    },
    {
      "cell_type": "code",
      "source": [
        "query = get_aws_and_it_keywords(\"채팅서버 만들어보고 싶어\")\n",
        "\n",
        "print(query)\n",
        "\n",
        "print(embedding(query))\n",
        "\n",
        "\n"
      ],
      "metadata": {
        "id": "ABfiogUtuQBS"
      },
      "execution_count": null,
      "outputs": []
    },
    {
      "cell_type": "code",
      "source": [
        "pc.delete_index(\"roadmap-test\")"
      ],
      "metadata": {
        "id": "5HgI2JVhI96s"
      },
      "execution_count": null,
      "outputs": []
    },
    {
      "cell_type": "code",
      "source": [
        "df = pd.read_csv('/content/updated_roadmap_38_final.csv')\n",
        "\n",
        "\n",
        "selected_cols = df[['id','title','desc','thumbnail', 'service','job', 'summary', 'keywords' ]]\n",
        "vectors = []\n",
        "for i, row in selected_cols.iterrows():\n",
        "    vector = {}\n",
        "    metadata = {}\n",
        "    vector[\"id\"] = str(row['id'])+\"_roadmap_with_summary_keywords\"\n",
        "    embedding_data = embedding(row[\"summary\"]+\" \"+row[\"keywords\"])\n",
        "    metadata[\"id\"] = str(row['id'])\n",
        "    vector[\"metadata\"] = metadata\n",
        "    vector[\"values\"] = embedding_data\n",
        "    vectors.append(vector)\n",
        "\n",
        "print(vectors[0])"
      ],
      "metadata": {
        "id": "1_oybvCx-5uG"
      },
      "execution_count": null,
      "outputs": []
    },
    {
      "cell_type": "code",
      "source": [
        "#생성한 목 데이터를 업로드합니다.\n",
        "index.upsert(\n",
        "    vectors=vectors,\n",
        "    namespace=\"roadmapSummaryKeyword\"\n",
        ")"
      ],
      "metadata": {
        "id": "NmjqTNX2Hbne"
      },
      "execution_count": null,
      "outputs": []
    },
    {
      "cell_type": "code",
      "source": [
        "print(vectors)"
      ],
      "metadata": {
        "id": "Z8O-6eYBHogP"
      },
      "execution_count": null,
      "outputs": []
    }
  ]
}